{
 "cells": [
  {
   "cell_type": "code",
   "execution_count": 1,
   "id": "c2536fc4",
   "metadata": {},
   "outputs": [],
   "source": [
    "from dotenv import load_dotenv\n",
    "from rich import print"
   ]
  },
  {
   "cell_type": "code",
   "execution_count": 2,
   "id": "0d385ffb",
   "metadata": {},
   "outputs": [
    {
     "data": {
      "text/plain": [
       "True"
      ]
     },
     "execution_count": 2,
     "metadata": {},
     "output_type": "execute_result"
    }
   ],
   "source": [
    "load_dotenv()"
   ]
  },
  {
   "cell_type": "code",
   "execution_count": 14,
   "id": "bd5b9492",
   "metadata": {},
   "outputs": [],
   "source": [
    "from langchain_huggingface import ChatHuggingFace, HuggingFaceEndpoint\n",
    "\n",
    "llm = HuggingFaceEndpoint(\n",
    "    repo_id=\"HuggingFaceH4/zephyr-7b-beta\",\n",
    "    task=\"text-generation\",\n",
    "    max_new_tokens=512,\n",
    "    do_sample=False,\n",
    "    repetition_penalty=1.03,\n",
    ")\n",
    "\n",
    "chat_model = ChatHuggingFace(llm=llm)"
   ]
  },
  {
   "cell_type": "code",
   "execution_count": 4,
   "id": "5785c901",
   "metadata": {},
   "outputs": [],
   "source": [
    "from langchain_core.messages import (\n",
    "    HumanMessage,\n",
    "    SystemMessage,\n",
    ")\n",
    "\n",
    "messages = [\n",
    "    SystemMessage(content=\"You're a helpful assistant\"),\n",
    "    HumanMessage(\n",
    "        content=\"Wnat is capital of india?\"\n",
    "    ),\n",
    "]\n",
    "\n",
    "ai_msg = chat_model.invoke(messages)"
   ]
  },
  {
   "cell_type": "code",
   "execution_count": 5,
   "id": "5559b098",
   "metadata": {},
   "outputs": [
    {
     "name": "stdout",
     "output_type": "stream",
     "text": [
      "The current capital city of India is New Delhi. It became the capital after India gained independence from British rule in 1947. New Delhi is a territory and union capital, administered as a national capital territory, and serves as the seat of the federal government and legislature of India.\n",
      "\n",
      "Note: Before India's independence, the British colonial capital was Calcutta (now known as Kolkata in India), and the Legislative Council of British India functioned in Kolkata from 1911 until 1937. And Dhaka (now the capital of Bangladesh) was the capital of Pakistan (a country that came into existence right after the partition of India) from 1947 to 1958, when its capital moved to Islamabad.\n"
     ]
    }
   ],
   "source": [
    "print(ai_msg.content)"
   ]
  },
  {
   "cell_type": "markdown",
   "id": "45e1aa67",
   "metadata": {},
   "source": [
    "### testing document\n"
   ]
  },
  {
   "cell_type": "code",
   "execution_count": 12,
   "id": "37dd930c",
   "metadata": {},
   "outputs": [
    {
     "data": {
      "text/html": [
       "<pre style=\"white-space:pre;overflow-x:auto;line-height:normal;font-family:Menlo,'DejaVu Sans Mono',consolas,'Courier New',monospace\">\n",
       "--- Extracted Info from Chunk <span style=\"color: #008080; text-decoration-color: #008080; font-weight: bold\">1</span> ---\n",
       "</pre>\n"
      ],
      "text/plain": [
       "\n",
       "--- Extracted Info from Chunk \u001b[1;36m1\u001b[0m ---\n"
      ]
     },
     "metadata": {},
     "output_type": "display_data"
    },
    {
     "data": {
      "text/html": [
       "<pre style=\"white-space:pre;overflow-x:auto;line-height:normal;font-family:Menlo,'DejaVu Sans Mono',consolas,'Courier New',monospace\"><span style=\"font-weight: bold\">{</span>\n",
       "  <span style=\"color: #008000; text-decoration-color: #008000\">\"entities\"</span>: <span style=\"font-weight: bold\">[</span>\n",
       "    <span style=\"font-weight: bold\">{</span>\n",
       "      <span style=\"color: #008000; text-decoration-color: #008000\">\"entity\"</span>: <span style=\"color: #008000; text-decoration-color: #008000\">\"Invoice Date\"</span>,\n",
       "      <span style=\"color: #008000; text-decoration-color: #008000\">\"text\"</span>: <span style=\"color: #008000; text-decoration-color: #008000\">\"Mar 06 2012\"</span>\n",
       "    <span style=\"font-weight: bold\">}</span>,\n",
       "    <span style=\"font-weight: bold\">{</span>\n",
       "      <span style=\"color: #008000; text-decoration-color: #008000\">\"entity\"</span>: <span style=\"color: #008000; text-decoration-color: #008000\">\"Bill To\"</span>,\n",
       "      <span style=\"color: #008000; text-decoration-color: #008000\">\"text\"</span>: <span style=\"color: #008000; text-decoration-color: #008000\">\"Aaron Bergman\"</span>\n",
       "    <span style=\"font-weight: bold\">}</span>,\n",
       "    <span style=\"font-weight: bold\">{</span>\n",
       "      <span style=\"color: #008000; text-decoration-color: #008000\">\"entity\"</span>: <span style=\"color: #008000; text-decoration-color: #008000\">\"Ship To\"</span>,\n",
       "      <span style=\"color: #008000; text-decoration-color: #008000\">\"text\"</span>: <span style=\"color: #008000; text-decoration-color: #008000\">\"98103, Seattle, Washington, United States\"</span>\n",
       "    <span style=\"font-weight: bold\">}</span>\n",
       "  <span style=\"font-weight: bold\">]</span>\n",
       "<span style=\"font-weight: bold\">}</span>\n",
       "</pre>\n"
      ],
      "text/plain": [
       "\u001b[1m{\u001b[0m\n",
       "  \u001b[32m\"entities\"\u001b[0m: \u001b[1m[\u001b[0m\n",
       "    \u001b[1m{\u001b[0m\n",
       "      \u001b[32m\"entity\"\u001b[0m: \u001b[32m\"Invoice Date\"\u001b[0m,\n",
       "      \u001b[32m\"text\"\u001b[0m: \u001b[32m\"Mar 06 2012\"\u001b[0m\n",
       "    \u001b[1m}\u001b[0m,\n",
       "    \u001b[1m{\u001b[0m\n",
       "      \u001b[32m\"entity\"\u001b[0m: \u001b[32m\"Bill To\"\u001b[0m,\n",
       "      \u001b[32m\"text\"\u001b[0m: \u001b[32m\"Aaron Bergman\"\u001b[0m\n",
       "    \u001b[1m}\u001b[0m,\n",
       "    \u001b[1m{\u001b[0m\n",
       "      \u001b[32m\"entity\"\u001b[0m: \u001b[32m\"Ship To\"\u001b[0m,\n",
       "      \u001b[32m\"text\"\u001b[0m: \u001b[32m\"98103, Seattle, Washington, United States\"\u001b[0m\n",
       "    \u001b[1m}\u001b[0m\n",
       "  \u001b[1m]\u001b[0m\n",
       "\u001b[1m}\u001b[0m\n"
      ]
     },
     "metadata": {},
     "output_type": "display_data"
    },
    {
     "data": {
      "text/html": [
       "<pre style=\"white-space:pre;overflow-x:auto;line-height:normal;font-family:Menlo,'DejaVu Sans Mono',consolas,'Courier New',monospace\">✅ Parsed as Python dict:\n",
       "<span style=\"font-weight: bold\">{</span>\n",
       "    <span style=\"color: #008000; text-decoration-color: #008000\">'entities'</span>: <span style=\"font-weight: bold\">[</span>\n",
       "        <span style=\"font-weight: bold\">{</span><span style=\"color: #008000; text-decoration-color: #008000\">'entity'</span>: <span style=\"color: #008000; text-decoration-color: #008000\">'Invoice Date'</span>, <span style=\"color: #008000; text-decoration-color: #008000\">'text'</span>: <span style=\"color: #008000; text-decoration-color: #008000\">'Mar 06 2012'</span><span style=\"font-weight: bold\">}</span>,\n",
       "        <span style=\"font-weight: bold\">{</span><span style=\"color: #008000; text-decoration-color: #008000\">'entity'</span>: <span style=\"color: #008000; text-decoration-color: #008000\">'Bill To'</span>, <span style=\"color: #008000; text-decoration-color: #008000\">'text'</span>: <span style=\"color: #008000; text-decoration-color: #008000\">'Aaron Bergman'</span><span style=\"font-weight: bold\">}</span>,\n",
       "        <span style=\"font-weight: bold\">{</span><span style=\"color: #008000; text-decoration-color: #008000\">'entity'</span>: <span style=\"color: #008000; text-decoration-color: #008000\">'Ship To'</span>, <span style=\"color: #008000; text-decoration-color: #008000\">'text'</span>: <span style=\"color: #008000; text-decoration-color: #008000\">'98103, Seattle, Washington, United States'</span><span style=\"font-weight: bold\">}</span>\n",
       "    <span style=\"font-weight: bold\">]</span>\n",
       "<span style=\"font-weight: bold\">}</span>\n",
       "</pre>\n"
      ],
      "text/plain": [
       "✅ Parsed as Python dict:\n",
       "\u001b[1m{\u001b[0m\n",
       "    \u001b[32m'entities'\u001b[0m: \u001b[1m[\u001b[0m\n",
       "        \u001b[1m{\u001b[0m\u001b[32m'entity'\u001b[0m: \u001b[32m'Invoice Date'\u001b[0m, \u001b[32m'text'\u001b[0m: \u001b[32m'Mar 06 2012'\u001b[0m\u001b[1m}\u001b[0m,\n",
       "        \u001b[1m{\u001b[0m\u001b[32m'entity'\u001b[0m: \u001b[32m'Bill To'\u001b[0m, \u001b[32m'text'\u001b[0m: \u001b[32m'Aaron Bergman'\u001b[0m\u001b[1m}\u001b[0m,\n",
       "        \u001b[1m{\u001b[0m\u001b[32m'entity'\u001b[0m: \u001b[32m'Ship To'\u001b[0m, \u001b[32m'text'\u001b[0m: \u001b[32m'98103, Seattle, Washington, United States'\u001b[0m\u001b[1m}\u001b[0m\n",
       "    \u001b[1m]\u001b[0m\n",
       "\u001b[1m}\u001b[0m\n"
      ]
     },
     "metadata": {},
     "output_type": "display_data"
    }
   ],
   "source": [
    "from langchain.document_loaders import PyPDFLoader\n",
    "from langchain.text_splitter import RecursiveCharacterTextSplitter\n",
    "from langchain_huggingface import ChatHuggingFace, HuggingFaceEndpoint\n",
    "from langchain.schema import HumanMessage\n",
    "import json\n",
    "\n",
    "# Initialize chat model\n",
    "llm = HuggingFaceEndpoint(\n",
    "    repo_id=\"HuggingFaceH4/zephyr-7b-beta\",\n",
    "    task=\"text-generation\",\n",
    "    max_new_tokens=512,\n",
    "    do_sample=False,\n",
    "    repetition_penalty=1.03,\n",
    ")\n",
    "chat_model = ChatHuggingFace(llm=llm)\n",
    "\n",
    "# Load and split PDF\n",
    "loader = PyPDFLoader(\"./data/invoice_Aaron Bergman_36259.pdf\")\n",
    "documents = loader.load()\n",
    "\n",
    "splitter = RecursiveCharacterTextSplitter(chunk_size=1000, chunk_overlap=100)\n",
    "chunks = splitter.split_documents(documents)\n",
    "\n",
    "# Define the custom extraction prompt\n",
    "prompt_template = \"\"\"\n",
    "You are an expert in field extraction from invoice bills.\n",
    "Extract the following fields from the given text and return them in the output format shown below:\n",
    "\n",
    "Fields to extract:\n",
    "- Invoice Date\n",
    "- Bill To\n",
    "- Ship To\n",
    "\n",
    "Text:\n",
    "{text}\n",
    "\n",
    "Output Format (as JSON):\n",
    "{{\n",
    "  \"entities\": [\n",
    "    {{\n",
    "      \"entity\": \"Invoice Date\",\n",
    "      \"text\": \"20-dec-2025\"\n",
    "    }},\n",
    "    {{\n",
    "      \"entity\": \"Bill To\",\n",
    "      \"text\": \"James Mormount\"\n",
    "    }},\n",
    "    {{\n",
    "      \"entity\": \"Ship To\",\n",
    "      \"text\": \"Winterfell\"\n",
    "    }}\n",
    "  ]\n",
    "}}\n",
    "\n",
    "ONLY return a valid JSON object that matches the schema above.\n",
    "\"\"\"\n",
    "\n",
    "# Process chunks\n",
    "for i, chunk in enumerate(chunks[:2]):  # limit for demo\n",
    "    prompt = prompt_template.format(text=chunk.page_content)\n",
    "    response = chat_model([HumanMessage(content=prompt)])\n",
    "    \n",
    "    print(f\"\\n--- Extracted Info from Chunk {i+1} ---\")\n",
    "    print(response.content)\n",
    "\n",
    "    try:\n",
    "        data = json.loads(response.content)\n",
    "        print(\"✅ Parsed as Python dict:\", data)\n",
    "    except json.JSONDecodeError:\n",
    "        print(\"⚠️ Response not in strict JSON format. Review model output.\")\n"
   ]
  },
  {
   "cell_type": "code",
   "execution_count": 13,
   "id": "96030e87",
   "metadata": {},
   "outputs": [
    {
     "data": {
      "text/html": [
       "<pre style=\"white-space:pre;overflow-x:auto;line-height:normal;font-family:Menlo,'DejaVu Sans Mono',consolas,'Courier New',monospace\"><span style=\"font-weight: bold\">{</span>\n",
       "  <span style=\"color: #008000; text-decoration-color: #008000\">\"entities\"</span>: <span style=\"font-weight: bold\">[</span>\n",
       "    <span style=\"font-weight: bold\">{</span>\n",
       "      <span style=\"color: #008000; text-decoration-color: #008000\">\"entity\"</span>: <span style=\"color: #008000; text-decoration-color: #008000\">\"Invoice Date\"</span>,\n",
       "      <span style=\"color: #008000; text-decoration-color: #008000\">\"text\"</span>: <span style=\"color: #008000; text-decoration-color: #008000\">\"Mar 06 2012\"</span>\n",
       "    <span style=\"font-weight: bold\">}</span>,\n",
       "    <span style=\"font-weight: bold\">{</span>\n",
       "      <span style=\"color: #008000; text-decoration-color: #008000\">\"entity\"</span>: <span style=\"color: #008000; text-decoration-color: #008000\">\"Bill To\"</span>,\n",
       "      <span style=\"color: #008000; text-decoration-color: #008000\">\"text\"</span>: <span style=\"color: #008000; text-decoration-color: #008000\">\"Aaron Bergman\"</span>\n",
       "    <span style=\"font-weight: bold\">}</span>,\n",
       "    <span style=\"font-weight: bold\">{</span>\n",
       "      <span style=\"color: #008000; text-decoration-color: #008000\">\"entity\"</span>: <span style=\"color: #008000; text-decoration-color: #008000\">\"Ship To\"</span>,\n",
       "      <span style=\"color: #008000; text-decoration-color: #008000\">\"text\"</span>: <span style=\"color: #008000; text-decoration-color: #008000\">\"98103, Seattle, Washington, United States\"</span>\n",
       "    <span style=\"font-weight: bold\">}</span>\n",
       "  <span style=\"font-weight: bold\">]</span>\n",
       "<span style=\"font-weight: bold\">}</span>\n",
       "</pre>\n"
      ],
      "text/plain": [
       "\u001b[1m{\u001b[0m\n",
       "  \u001b[32m\"entities\"\u001b[0m: \u001b[1m[\u001b[0m\n",
       "    \u001b[1m{\u001b[0m\n",
       "      \u001b[32m\"entity\"\u001b[0m: \u001b[32m\"Invoice Date\"\u001b[0m,\n",
       "      \u001b[32m\"text\"\u001b[0m: \u001b[32m\"Mar 06 2012\"\u001b[0m\n",
       "    \u001b[1m}\u001b[0m,\n",
       "    \u001b[1m{\u001b[0m\n",
       "      \u001b[32m\"entity\"\u001b[0m: \u001b[32m\"Bill To\"\u001b[0m,\n",
       "      \u001b[32m\"text\"\u001b[0m: \u001b[32m\"Aaron Bergman\"\u001b[0m\n",
       "    \u001b[1m}\u001b[0m,\n",
       "    \u001b[1m{\u001b[0m\n",
       "      \u001b[32m\"entity\"\u001b[0m: \u001b[32m\"Ship To\"\u001b[0m,\n",
       "      \u001b[32m\"text\"\u001b[0m: \u001b[32m\"98103, Seattle, Washington, United States\"\u001b[0m\n",
       "    \u001b[1m}\u001b[0m\n",
       "  \u001b[1m]\u001b[0m\n",
       "\u001b[1m}\u001b[0m\n"
      ]
     },
     "metadata": {},
     "output_type": "display_data"
    }
   ],
   "source": [
    "print(response.content)"
   ]
  },
  {
   "cell_type": "code",
   "execution_count": 22,
   "id": "7400be06",
   "metadata": {},
   "outputs": [
    {
     "data": {
      "text/plain": [
       "[{'entity': 'Invoice Date', 'text': 'Mar 06 2012'},\n",
       " {'entity': 'Bill To', 'text': 'Aaron Bergman'},\n",
       " {'entity': 'Ship To', 'text': '98103, Seattle, Washington, United States'}]"
      ]
     },
     "execution_count": 22,
     "metadata": {},
     "output_type": "execute_result"
    }
   ],
   "source": [
    "data['entities']"
   ]
  },
  {
   "cell_type": "code",
   "execution_count": 23,
   "id": "a700d7b4",
   "metadata": {},
   "outputs": [
    {
     "data": {
      "text/html": [
       "<pre style=\"white-space:pre;overflow-x:auto;line-height:normal;font-family:Menlo,'DejaVu Sans Mono',consolas,'Courier New',monospace\"><span style=\"font-weight: bold\">{</span><span style=\"color: #008000; text-decoration-color: #008000\">'entity'</span>: <span style=\"color: #008000; text-decoration-color: #008000\">'Invoice Date'</span>, <span style=\"color: #008000; text-decoration-color: #008000\">'text'</span>: <span style=\"color: #008000; text-decoration-color: #008000\">'Mar 06 2012'</span><span style=\"font-weight: bold\">}</span>\n",
       "</pre>\n"
      ],
      "text/plain": [
       "\u001b[1m{\u001b[0m\u001b[32m'entity'\u001b[0m: \u001b[32m'Invoice Date'\u001b[0m, \u001b[32m'text'\u001b[0m: \u001b[32m'Mar 06 2012'\u001b[0m\u001b[1m}\u001b[0m\n"
      ]
     },
     "metadata": {},
     "output_type": "display_data"
    },
    {
     "data": {
      "text/html": [
       "<pre style=\"white-space:pre;overflow-x:auto;line-height:normal;font-family:Menlo,'DejaVu Sans Mono',consolas,'Courier New',monospace\"><span style=\"font-weight: bold\">{</span><span style=\"color: #008000; text-decoration-color: #008000\">'entity'</span>: <span style=\"color: #008000; text-decoration-color: #008000\">'Bill To'</span>, <span style=\"color: #008000; text-decoration-color: #008000\">'text'</span>: <span style=\"color: #008000; text-decoration-color: #008000\">'Aaron Bergman'</span><span style=\"font-weight: bold\">}</span>\n",
       "</pre>\n"
      ],
      "text/plain": [
       "\u001b[1m{\u001b[0m\u001b[32m'entity'\u001b[0m: \u001b[32m'Bill To'\u001b[0m, \u001b[32m'text'\u001b[0m: \u001b[32m'Aaron Bergman'\u001b[0m\u001b[1m}\u001b[0m\n"
      ]
     },
     "metadata": {},
     "output_type": "display_data"
    },
    {
     "data": {
      "text/html": [
       "<pre style=\"white-space:pre;overflow-x:auto;line-height:normal;font-family:Menlo,'DejaVu Sans Mono',consolas,'Courier New',monospace\"><span style=\"font-weight: bold\">{</span><span style=\"color: #008000; text-decoration-color: #008000\">'entity'</span>: <span style=\"color: #008000; text-decoration-color: #008000\">'Ship To'</span>, <span style=\"color: #008000; text-decoration-color: #008000\">'text'</span>: <span style=\"color: #008000; text-decoration-color: #008000\">'98103, Seattle, Washington, United States'</span><span style=\"font-weight: bold\">}</span>\n",
       "</pre>\n"
      ],
      "text/plain": [
       "\u001b[1m{\u001b[0m\u001b[32m'entity'\u001b[0m: \u001b[32m'Ship To'\u001b[0m, \u001b[32m'text'\u001b[0m: \u001b[32m'98103, Seattle, Washington, United States'\u001b[0m\u001b[1m}\u001b[0m\n"
      ]
     },
     "metadata": {},
     "output_type": "display_data"
    }
   ],
   "source": [
    "for d in data['entities']:\n",
    "    print(d)"
   ]
  },
  {
   "cell_type": "markdown",
   "id": "b7878dbb",
   "metadata": {},
   "source": [
    "### prompt generation"
   ]
  },
  {
   "cell_type": "code",
   "execution_count": null,
   "id": "7b1052ad",
   "metadata": {},
   "outputs": [],
   "source": [
    "1. create jinja template and move prompt there \n",
    "2. load that jinja into variable \n",
    "3. run exatract"
   ]
  },
  {
   "cell_type": "markdown",
   "id": "2e95118f",
   "metadata": {},
   "source": []
  }
 ],
 "metadata": {
  "kernelspec": {
   "display_name": ".venv",
   "language": "python",
   "name": "python3"
  },
  "language_info": {
   "codemirror_mode": {
    "name": "ipython",
    "version": 3
   },
   "file_extension": ".py",
   "mimetype": "text/x-python",
   "name": "python",
   "nbconvert_exporter": "python",
   "pygments_lexer": "ipython3",
   "version": "3.13.3"
  }
 },
 "nbformat": 4,
 "nbformat_minor": 5
}
