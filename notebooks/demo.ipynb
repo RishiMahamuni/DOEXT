{
 "cells": [
  {
   "cell_type": "code",
   "execution_count": 3,
   "id": "07362273",
   "metadata": {},
   "outputs": [],
   "source": [
    "from huggingface_hub import hf_hub_download\n",
    "import os\n",
    "os.environ[\"HF_HOME\"] = r\"D:\\hg-cache\""
   ]
  },
  {
   "cell_type": "code",
   "execution_count": null,
   "id": "d2d00114",
   "metadata": {},
   "outputs": [],
   "source": [
    "from docling.document_converter import DocumentConverter\n",
    "converter = DocumentConverter()"
   ]
  },
  {
   "cell_type": "code",
   "execution_count": null,
   "id": "444964e9",
   "metadata": {},
   "outputs": [
    {
     "name": "stdout",
     "output_type": "stream",
     "text": [
      "SuperStore\n",
      "\n",
      "Bill To:\n",
      "\n",
      "Ship To:\n",
      "\n",
      "Troy Staebel\n",
      "\n",
      "Paraparaumu, Wellington, New Zealand\n",
      "\n",
      "<!-- image -->\n",
      "\n",
      "Jan 31 2012\n",
      "\n",
      "Standard Class\n",
      "\n",
      "$10,413.48\n",
      "\n",
      "Date:\n",
      "\n",
      "Ship Mode:\n",
      "\n",
      "Balance Due:\n",
      "\n",
      "| Item                            | Quantity   | Rate      | Amount     |\n",
      "|---------------------------------|------------|-----------|------------|\n",
      "| Motorola Smart Phone, Cordless  | 4          | $2,571.12 | $10,284.48 |\n",
      "| Phones, Technology, TEC-PH-5267 |            |           |            |\n",
      "|                                 | Subtotal:  |           | $10,284.48 |\n",
      "|                                 |            | Shipping: | $129.00    |\n",
      "|                                 |            | Total:    | $10,413.48 |\n",
      "\n",
      "Notes:\n",
      "\n",
      "Thanks for your business!\n",
      "\n",
      "Terms:\n",
      "\n",
      "Order ID : IN-2012-TS2161092-40939\n"
     ]
    }
   ],
   "source": [
    "source = r\"D:\\rishikeesh\\Downloads\\1000+ PDF_Invoice_Folder\\invoice_Troy Staebel_30584.pdf\"\n",
    "result = converter.convert(source)\n",
    "print(result.document.export_to_markdown())"
   ]
  },
  {
   "cell_type": "markdown",
   "id": "2d83275c",
   "metadata": {},
   "source": []
  },
  {
   "cell_type": "code",
   "execution_count": null,
   "id": "100ce8c9",
   "metadata": {},
   "outputs": [],
   "source": []
  }
 ],
 "metadata": {
  "kernelspec": {
   "display_name": ".venv",
   "language": "python",
   "name": "python3"
  },
  "language_info": {
   "codemirror_mode": {
    "name": "ipython",
    "version": 3
   },
   "file_extension": ".py",
   "mimetype": "text/x-python",
   "name": "python",
   "nbconvert_exporter": "python",
   "pygments_lexer": "ipython3",
   "version": "3.13.3"
  }
 },
 "nbformat": 4,
 "nbformat_minor": 5
}
