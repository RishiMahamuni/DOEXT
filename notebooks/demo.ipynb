{
 "cells": [
  {
   "cell_type": "code",
   "execution_count": 8,
   "id": "07362273",
   "metadata": {},
   "outputs": [],
   "source": [
    "from huggingface_hub import hf_hub_download\n",
    "import os\n",
    "os.environ[\"HF_HOME\"] = r\"D:\\cache\""
   ]
  },
  {
   "cell_type": "code",
   "execution_count": 9,
   "id": "d2d00114",
   "metadata": {},
   "outputs": [],
   "source": [
    "from docling.document_converter import DocumentConverter\n",
    "converter = DocumentConverter()"
   ]
  },
  {
   "cell_type": "markdown",
   "id": "1ecc7335",
   "metadata": {},
   "source": [
    "## Sample PDF testing"
   ]
  },
  {
   "cell_type": "code",
   "execution_count": 16,
   "id": "4a90db76",
   "metadata": {},
   "outputs": [
    {
     "name": "stderr",
     "output_type": "stream",
     "text": [
      "<>:1: SyntaxWarning: invalid escape sequence '\\d'\n",
      "<>:1: SyntaxWarning: invalid escape sequence '\\d'\n",
      "C:\\Users\\iamru\\AppData\\Local\\Temp\\ipykernel_25340\\235172851.py:1: SyntaxWarning: invalid escape sequence '\\d'\n",
      "  source = \".\\data\\invoice_Aaron Bergman_36259.pdf\"\n"
     ]
    },
    {
     "name": "stdout",
     "output_type": "stream",
     "text": [
      "SuperStore\n",
      "\n",
      "Bill To:\n",
      "\n",
      "Ship To:\n",
      "\n",
      "Aaron Bergman\n",
      "\n",
      "98103, Seattle, Washington, United States\n",
      "\n",
      "<!-- image -->\n",
      "\n",
      "Mar 06 2012\n",
      "\n",
      "First Class\n",
      "\n",
      "$58.11\n",
      "\n",
      "Date:\n",
      "\n",
      "Ship Mode:\n",
      "\n",
      "Balance Due:\n",
      "\n",
      "| Item                              | Quantity   | Rate      | Amount   |\n",
      "|-----------------------------------|------------|-----------|----------|\n",
      "| Newell 330                        | 3          | $17.94    | $53.82   |\n",
      "| Art, Office Supplies, OFF-AR-5309 |            |           |          |\n",
      "|                                   |            | Subtotal: | $53.82   |\n",
      "|                                   |            | Shipping: | $4.29    |\n",
      "|                                   |            | Total:    | $58.11   |\n",
      "\n",
      "Notes:\n",
      "\n",
      "Thanks for your business!\n",
      "\n",
      "Terms:\n",
      "\n",
      "Order ID : CA-2012-AB10015140-40974\n"
     ]
    }
   ],
   "source": [
    "source = \".\\data\\invoice_Aaron Bergman_36259.pdf\"\n",
    "result = converter.convert(source)\n",
    "print(result.document.export_to_markdown())"
   ]
  },
  {
   "cell_type": "markdown",
   "id": "9f68ffc0",
   "metadata": {},
   "source": [
    "## Sample Excel testing"
   ]
  },
  {
   "cell_type": "code",
   "execution_count": 15,
   "id": "444964e9",
   "metadata": {},
   "outputs": [
    {
     "name": "stdout",
     "output_type": "stream",
     "text": [
      "|   Invoice ID | Customer Name   | Date       | Item              |   Quantity |   Unit Price |   Total | Status   |\n",
      "|--------------|-----------------|------------|-------------------|------------|--------------|---------|----------|\n",
      "|         1001 | Troy Staebel    | 2024-11-15 | Website Design    |          1 |          500 |     500 | Paid     |\n",
      "|         1002 | Jane Doe        | 2024-11-17 | Logo Design       |          2 |          150 |     300 | Unpaid   |\n",
      "|         1003 | Mike Johnson    | 2024-11-20 | Consulting Hours  |          5 |           80 |     400 | Paid     |\n",
      "|         1004 | Linda Smith     | 2024-11-22 | Hosting Services  |          1 |          120 |     120 | Overdue  |\n",
      "|         1005 | Rishi K         | 2024-11-25 | Social Media Mgmt |          3 |          200 |     600 | Unpaid   |\n"
     ]
    },
    {
     "name": "stderr",
     "output_type": "stream",
     "text": [
      "<>:1: SyntaxWarning: invalid escape sequence '\\d'\n",
      "<>:1: SyntaxWarning: invalid escape sequence '\\d'\n",
      "C:\\Users\\iamru\\AppData\\Local\\Temp\\ipykernel_25340\\848408763.py:1: SyntaxWarning: invalid escape sequence '\\d'\n",
      "  source = \".\\data\\sample_invoice_data.xlsx\"\n"
     ]
    }
   ],
   "source": [
    "source = \".\\data\\sample_invoice_data.xlsx\"\n",
    "result = converter.convert(source)\n",
    "print(result.document.export_to_markdown())"
   ]
  },
  {
   "cell_type": "markdown",
   "id": "bef6fbe1",
   "metadata": {},
   "source": [
    "## Sample image testing for inovie in png"
   ]
  },
  {
   "cell_type": "markdown",
   "id": "2d83275c",
   "metadata": {},
   "source": []
  },
  {
   "cell_type": "code",
   "execution_count": 11,
   "id": "100ce8c9",
   "metadata": {},
   "outputs": [
    {
     "name": "stderr",
     "output_type": "stream",
     "text": [
      "<>:1: SyntaxWarning: invalid escape sequence '\\d'\n",
      "<>:1: SyntaxWarning: invalid escape sequence '\\d'\n",
      "C:\\Users\\iamru\\AppData\\Local\\Temp\\ipykernel_25340\\1950640706.py:1: SyntaxWarning: invalid escape sequence '\\d'\n",
      "  source = \".\\data\\invoice-sample.png\"\n"
     ]
    },
    {
     "name": "stdout",
     "output_type": "stream",
     "text": [
      "## Zylker Electronics Hub\n",
      "\n",
      "14B, Northern Street Greater South Avenue New York New York 10001 U.S.A\n",
      "\n",
      "<!-- image -->\n",
      "\n",
      "## INVOICE\n",
      "\n",
      "Invoice#\n",
      "\n",
      "Invoice Date\n",
      "\n",
      "05 Aug 2024\n",
      "\n",
      "Terms\n",
      "\n",
      "Due on Receipt\n",
      "\n",
      "Due Date\n",
      "\n",
      "05 Aug 2024\n",
      "\n",
      "Bill To\n",
      "\n",
      "Ship To\n",
      "\n",
      "## Ms. D Dunton Mary\n",
      "\n",
      "1324 Hinkle Lake Road Needham 02192 Maine\n",
      "\n",
      "1324 Hinkle Lake Road Needham 02192 Maine\n",
      "\n",
      "| #   | Item Description                                            |   Qty | Rate      | Amount    |\n",
      "|-----|-------------------------------------------------------------|-------|-----------|-----------|\n",
      "|     | Camera DSLR camera with advanced shooting capabilities      |     1 | $899.00   | 899.00    |\n",
      "| 2   | Fitness Tracker Activity tracker with heart rate monitoring |     1 | $129.00   | 4129.00   |\n",
      "| 3   | Laptop Lightweight laptop with a powerful processor         |     1 | $1,199.00 | $1,199.00 |\n",
      "\n",
      "Sub Total\n",
      "\n",
      "$2,227.00\n",
      "\n",
      "Thanks for shopping with us\n",
      "\n",
      "## Terms &amp; Conditions\n",
      "\n",
      "Full payment is due upon receipt of this invoice. Late payments may incur additional charges or interest as per the applicable laws.\n",
      "\n",
      "Tax Rate\n",
      "\n",
      "5.00%\n",
      "\n",
      "Total\n",
      "\n",
      "82,338.35\n",
      "\n",
      "Balance Due\n",
      "\n",
      "82,338.35\n"
     ]
    }
   ],
   "source": [
    "source = \".\\data\\invoice-sample.png\"\n",
    "result = converter.convert(source)\n",
    "print(result.document.export_to_markdown())"
   ]
  },
  {
   "cell_type": "code",
   "execution_count": null,
   "id": "ed1c7606",
   "metadata": {},
   "outputs": [],
   "source": []
  }
 ],
 "metadata": {
  "kernelspec": {
   "display_name": ".venv",
   "language": "python",
   "name": "python3"
  },
  "language_info": {
   "codemirror_mode": {
    "name": "ipython",
    "version": 3
   },
   "file_extension": ".py",
   "mimetype": "text/x-python",
   "name": "python",
   "nbconvert_exporter": "python",
   "pygments_lexer": "ipython3",
   "version": "3.13.3"
  }
 },
 "nbformat": 4,
 "nbformat_minor": 5
}
